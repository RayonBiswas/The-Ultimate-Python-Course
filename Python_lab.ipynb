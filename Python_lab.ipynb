{
  "nbformat": 4,
  "nbformat_minor": 0,
  "metadata": {
    "colab": {
      "provenance": [],
      "include_colab_link": true
    },
    "kernelspec": {
      "name": "python3",
      "display_name": "Python 3"
    },
    "language_info": {
      "name": "python"
    }
  },
  "cells": [
    {
      "cell_type": "markdown",
      "metadata": {
        "id": "view-in-github",
        "colab_type": "text"
      },
      "source": [
        "<a href=\"https://colab.research.google.com/github/RayonBiswas/The-Ultimate-Python-Course/blob/main/Python_lab.ipynb\" target=\"_parent\"><img src=\"https://colab.research.google.com/assets/colab-badge.svg\" alt=\"Open In Colab\"/></a>"
      ]
    },
    {
      "cell_type": "code",
      "source": [
        "print(1)\n",
        "\n",
        "x = 10\n",
        "print(x)"
      ],
      "metadata": {
        "colab": {
          "base_uri": "https://localhost:8080/"
        },
        "id": "uhJoV-Uoj7RL",
        "outputId": "cdb1cfab-642e-4d52-e07c-4175225593bf"
      },
      "execution_count": null,
      "outputs": [
        {
          "output_type": "stream",
          "name": "stdout",
          "text": [
            "1\n",
            "2\n"
          ]
        }
      ]
    },
    {
      "cell_type": "code",
      "source": [
        "print(\"My name is Rayon Biswas\")\n",
        "\n",
        "name = \"Rayon Biswas\"\n",
        "\n",
        "print(name)"
      ],
      "metadata": {
        "colab": {
          "base_uri": "https://localhost:8080/"
        },
        "id": "B11OlTaTj9hk",
        "outputId": "60645051-0457-4123-ff37-7d9f4ef938ee"
      },
      "execution_count": null,
      "outputs": [
        {
          "output_type": "stream",
          "name": "stdout",
          "text": [
            "My name is arhan\n",
            "Arhan\n"
          ]
        }
      ]
    },
    {
      "cell_type": "code",
      "source": [
        "message = 'Good Morning !'\n",
        "\n",
        "print (message)\n",
        "\n",
        "note =\"'This is Sentence/Paragraph of my text'\"\n",
        "\n",
        "print(note)"
      ],
      "metadata": {
        "colab": {
          "base_uri": "https://localhost:8080/"
        },
        "id": "SA03qyk6j_nX",
        "outputId": "8866bc24-ca98-4461-865f-cbd4b46ad1bc"
      },
      "execution_count": null,
      "outputs": [
        {
          "output_type": "stream",
          "name": "stdout",
          "text": [
            "Good Morning !\n",
            "'This is Paragraph of my text'\n"
          ]
        }
      ]
    },
    {
      "cell_type": "code",
      "source": [
        "#Indexing\n",
        "\n",
        "s=\"Python Rocks \"\n",
        "\n",
        "print(s[0:6])\n",
        "\n",
        "print(s[7:])\n",
        "\n",
        "print(s[3:9])\n"
      ],
      "metadata": {
        "colab": {
          "base_uri": "https://localhost:8080/"
        },
        "id": "SS47Td-lkBpN",
        "outputId": "121ea184-a6bb-4a4e-f8e9-d6b83a17bdd9"
      },
      "execution_count": null,
      "outputs": [
        {
          "output_type": "stream",
          "name": "stdout",
          "text": [
            "Python\n",
            "Rocks \n",
            "hon Ro\n"
          ]
        }
      ]
    },
    {
      "cell_type": "code",
      "source": [
        "#Concatenation(Jioning Strings)\n",
        "\n",
        "greeting= \"Hello \"\n",
        "name = \"Coder\"\n",
        "\n",
        "print(greeting + name)\n",
        "\n",
        "print ( s + \" is fun!\")"
      ],
      "metadata": {
        "colab": {
          "base_uri": "https://localhost:8080/"
        },
        "id": "lwyDehMUkD8J",
        "outputId": "516d80e1-f310-467a-fa9a-b535d6c51de9"
      },
      "execution_count": null,
      "outputs": [
        {
          "output_type": "stream",
          "name": "stdout",
          "text": [
            "Hello Coder\n",
            "Python Rocks  is fun!\n"
          ]
        }
      ]
    },
    {
      "cell_type": "code",
      "source": [
        "#Repetition\n",
        "\n",
        "print (s*2)\n"
      ],
      "metadata": {
        "colab": {
          "base_uri": "https://localhost:8080/"
        },
        "id": "-YkTV2FWkF_y",
        "outputId": "e7f9a95b-0205-403c-d72b-d001c6631445"
      },
      "execution_count": null,
      "outputs": [
        {
          "output_type": "stream",
          "name": "stdout",
          "text": [
            "Python Rocks Python Rocks \n"
          ]
        }
      ]
    },
    {
      "cell_type": "code",
      "source": [
        "\n",
        "#Membership\n",
        "\n",
        "print(\"P\" in s)\n",
        "\n",
        "print(\"Rocks\" in s)\n",
        "\n",
        "print(\"python\" in s)\n",
        "\n",
        "s[-1]\n",
        "\n",
        "p = 'VJTI is so cool'\n",
        "\n",
        "print(p)"
      ],
      "metadata": {
        "colab": {
          "base_uri": "https://localhost:8080/"
        },
        "id": "Rrt0tzPHkI6i",
        "outputId": "1a954ce6-344f-409c-c311-d151ba9836b0"
      },
      "execution_count": null,
      "outputs": [
        {
          "output_type": "stream",
          "name": "stdout",
          "text": [
            "True\n",
            "True\n",
            "False\n",
            "VJTI is cool\n"
          ]
        }
      ]
    },
    {
      "cell_type": "code",
      "source": [
        "#LIST\n",
        "\n",
        "fruits = [\"Apple\" , \"Banana\" , \"Cherry\" , \"Mango\"]"
      ],
      "metadata": {
        "id": "6s8vExgCkLmE"
      },
      "execution_count": null,
      "outputs": []
    },
    {
      "cell_type": "code",
      "source": [
        "print(fruits[1:2])\n",
        "print(fruits[2:])\n",
        "print(fruits[2:4])"
      ],
      "metadata": {
        "colab": {
          "base_uri": "https://localhost:8080/"
        },
        "id": "8dMJEAn5jbbJ",
        "outputId": "8fbc3bb4-7510-4b52-e0da-374a46e0d74e"
      },
      "execution_count": null,
      "outputs": [
        {
          "output_type": "stream",
          "name": "stdout",
          "text": [
            "['Banana']\n",
            "['Cherry', 'Mango']\n",
            "['Cherry', 'Mango']\n"
          ]
        }
      ]
    },
    {
      "cell_type": "code",
      "source": [
        "veggis=[\"carrot\", \"tomato\"]\n",
        "baskets=veggis+fruits\n",
        "print(baskets)"
      ],
      "metadata": {
        "colab": {
          "base_uri": "https://localhost:8080/"
        },
        "id": "RYjo0CoPju95",
        "outputId": "df287756-9d28-40c6-8764-897a6d799afa"
      },
      "execution_count": null,
      "outputs": [
        {
          "output_type": "stream",
          "name": "stdout",
          "text": [
            "['carrot', 'tomato', 'Apple', 'Banana', 'Cherry', 'Mango']\n"
          ]
        }
      ]
    },
    {
      "cell_type": "code",
      "source": [
        "print(veggis*2)"
      ],
      "metadata": {
        "colab": {
          "base_uri": "https://localhost:8080/"
        },
        "id": "DFriT5vqkOc-",
        "outputId": "a83fcc37-a102-49e3-840f-9ca40eeeb127"
      },
      "execution_count": null,
      "outputs": [
        {
          "output_type": "stream",
          "name": "stdout",
          "text": [
            "['carrot', 'tomato', 'carrot', 'tomato']\n"
          ]
        }
      ]
    },
    {
      "cell_type": "code",
      "source": [
        "print(\"banana\" in fruits)\n"
      ],
      "metadata": {
        "colab": {
          "base_uri": "https://localhost:8080/"
        },
        "id": "7bhCbZGvkSTn",
        "outputId": "c794d3ef-f4e7-44ca-b15e-354b6c80f804"
      },
      "execution_count": null,
      "outputs": [
        {
          "output_type": "stream",
          "name": "stdout",
          "text": [
            "False\n"
          ]
        }
      ]
    },
    {
      "cell_type": "code",
      "source": [
        "fruits[1]=\"orange\"\n",
        "print(fruits)"
      ],
      "metadata": {
        "colab": {
          "base_uri": "https://localhost:8080/"
        },
        "id": "9yDUro9VkZi4",
        "outputId": "448f406f-efec-4212-8e9c-106faa6c72a6"
      },
      "execution_count": null,
      "outputs": [
        {
          "output_type": "stream",
          "name": "stdout",
          "text": [
            "['Apple', 'orange', 'Cherry', 'Mango']\n"
          ]
        }
      ]
    },
    {
      "cell_type": "code",
      "source": [
        "fruits.insert(2,\"grapes\")\n",
        "print(fruits)"
      ],
      "metadata": {
        "colab": {
          "base_uri": "https://localhost:8080/"
        },
        "id": "Ww_soFR2lTQu",
        "outputId": "b9fc06a8-a01a-4c97-bc7f-841af8d4466a"
      },
      "execution_count": null,
      "outputs": [
        {
          "output_type": "stream",
          "name": "stdout",
          "text": [
            "['Apple', 'orange', 'grapes', 'Cherry', 'Mango']\n"
          ]
        }
      ]
    },
    {
      "cell_type": "code",
      "source": [
        "fruits.append(\"kiwi\")\n",
        "print(fruits)"
      ],
      "metadata": {
        "colab": {
          "base_uri": "https://localhost:8080/"
        },
        "id": "mkKOqiZyknei",
        "outputId": "fc1f985a-e30b-4dcc-ecb6-13d680dd8a4b"
      },
      "execution_count": null,
      "outputs": [
        {
          "output_type": "stream",
          "name": "stdout",
          "text": [
            "['Apple', 'orange', 'grapes', 'Cherry', 'Mango', 'kiwi']\n"
          ]
        }
      ]
    },
    {
      "cell_type": "code",
      "source": [
        "fruits.remove(\"Apple\")\n",
        "print(fruits)"
      ],
      "metadata": {
        "colab": {
          "base_uri": "https://localhost:8080/"
        },
        "id": "SgNCtvgTliri",
        "outputId": "414d9fb5-7317-4e03-c7ae-ba17db46924e"
      },
      "execution_count": null,
      "outputs": [
        {
          "output_type": "stream",
          "name": "stdout",
          "text": [
            "['orange', 'grapes', 'Cherry', 'Mango', 'kiwi']\n"
          ]
        }
      ]
    },
    {
      "cell_type": "code",
      "source": [
        "del fruits[1]\n",
        "print(fruits)"
      ],
      "metadata": {
        "colab": {
          "base_uri": "https://localhost:8080/"
        },
        "id": "eqlBm9-BltqY",
        "outputId": "d7638414-412f-45af-fb3a-ef0514ad3c9a"
      },
      "execution_count": null,
      "outputs": [
        {
          "output_type": "stream",
          "name": "stdout",
          "text": [
            "['orange', 'Cherry', 'Mango', 'kiwi']\n"
          ]
        }
      ]
    },
    {
      "cell_type": "code",
      "source": [
        "for _ in fruits:\n",
        "  print(_)"
      ],
      "metadata": {
        "colab": {
          "base_uri": "https://localhost:8080/"
        },
        "id": "OLT1vNqomO-X",
        "outputId": "92441c4f-f585-4071-aefd-950273180f65"
      },
      "execution_count": null,
      "outputs": [
        {
          "output_type": "stream",
          "name": "stdout",
          "text": [
            "orange\n",
            "Cherry\n",
            "Mango\n",
            "kiwi\n"
          ]
        }
      ]
    },
    {
      "cell_type": "code",
      "source": [
        "subjects=(\"maths\" ,\"english\", \"marathi\", \"hindi\", \"history\")\n",
        "print(subjects)"
      ],
      "metadata": {
        "colab": {
          "base_uri": "https://localhost:8080/"
        },
        "id": "26MvGhocnFzn",
        "outputId": "5934eb34-036d-455d-b89c-7c7c8d0d39d7"
      },
      "execution_count": null,
      "outputs": [
        {
          "output_type": "stream",
          "name": "stdout",
          "text": [
            "('maths', 'english', 'marathi', 'hindi', 'history')\n"
          ]
        }
      ]
    },
    {
      "cell_type": "code",
      "source": [
        "print(subjects[0])\n",
        "print(subjects[-1])\n"
      ],
      "metadata": {
        "colab": {
          "base_uri": "https://localhost:8080/"
        },
        "id": "1gl95_ivoXBM",
        "outputId": "077b87a6-de88-4392-cc14-f6f6538c9fed"
      },
      "execution_count": null,
      "outputs": [
        {
          "output_type": "stream",
          "name": "stdout",
          "text": [
            "maths\n",
            "history\n"
          ]
        }
      ]
    },
    {
      "cell_type": "code",
      "source": [
        "print(subjects[1:4])\n",
        "print(subjects[:3])"
      ],
      "metadata": {
        "colab": {
          "base_uri": "https://localhost:8080/"
        },
        "id": "BQp8zrP_oiyr",
        "outputId": "53d3a27b-8bf7-4723-fad7-08f0ae7604aa"
      },
      "execution_count": null,
      "outputs": [
        {
          "output_type": "stream",
          "name": "stdout",
          "text": [
            "('english', 'marathi', 'hindi')\n",
            "('maths', 'english', 'marathi')\n"
          ]
        }
      ]
    },
    {
      "cell_type": "code",
      "source": [
        "sport=(\"pe\", \"yoga\")\n",
        "all_lec=subjects+sport\n",
        "print(all_lec)"
      ],
      "metadata": {
        "colab": {
          "base_uri": "https://localhost:8080/"
        },
        "id": "W_B5p5UIo5wh",
        "outputId": "3a3b44f9-84d2-4073-ef82-081207d07175"
      },
      "execution_count": null,
      "outputs": [
        {
          "output_type": "stream",
          "name": "stdout",
          "text": [
            "('maths', 'english', 'marathi', 'hindi', 'history', 'pe', 'yoga')\n"
          ]
        }
      ]
    },
    {
      "cell_type": "code",
      "source": [
        "print(sport*2)"
      ],
      "metadata": {
        "id": "XJT-lF9GpUwF",
        "outputId": "b6f8ccee-fb7f-447a-e25f-0a770f8f1bae",
        "colab": {
          "base_uri": "https://localhost:8080/"
        }
      },
      "execution_count": null,
      "outputs": [
        {
          "output_type": "stream",
          "name": "stdout",
          "text": [
            "('pe', 'yoga', 'pe', 'yoga')\n"
          ]
        }
      ]
    },
    {
      "cell_type": "markdown",
      "source": [
        "# Python Lab 6/8/2025"
      ],
      "metadata": {
        "id": "TLcx-v-WHv44"
      }
    },
    {
      "cell_type": "code",
      "source": [
        "mytuple = (\"apple\", \"banana\", \"cherry\")\n",
        "print(type(mytuple))\n",
        "print(mytuple[1])\n",
        "# Slicing\n",
        "print(mytuple[1:3])\n",
        "print(mytuple*2)"
      ],
      "metadata": {
        "id": "UZxa-rThpUcd",
        "colab": {
          "base_uri": "https://localhost:8080/"
        },
        "outputId": "ccde38b2-2a9c-48e2-fadb-85ce2fb14b2c"
      },
      "execution_count": null,
      "outputs": [
        {
          "output_type": "stream",
          "name": "stdout",
          "text": [
            "<class 'tuple'>\n",
            "banana\n",
            "('banana', 'cherry')\n",
            "('apple', 'banana', 'cherry', 'apple', 'banana', 'cherry')\n"
          ]
        }
      ]
    },
    {
      "cell_type": "code",
      "source": [
        "# Create a dictionary\n",
        "my_dict = {\"brand\": \"Ford\", \"model\": \"Mustang\", \"year\": 1964}\n",
        "print(\"Original dictionary:\", my_dict)\n",
        "\n",
        "# Accessing values\n",
        "print(\"Brand:\", my_dict[\"brand\"])\n",
        "print(\"Model:\", my_dict.get(\"model\")) # Another way to access values\n",
        "\n",
        "# Adding a new key-value pair\n",
        "my_dict[\"color\"] = \"red\"\n",
        "print(\"Dictionary after adding color:\", my_dict)\n",
        "\n",
        "# Changing a value\n",
        "my_dict[\"year\"] = 2020\n",
        "print(\"Dictionary after changing year:\", my_dict)\n",
        "\n",
        "# Deleting an item\n",
        "del my_dict[\"model\"]\n",
        "print(\"Dictionary after deleting model:\", my_dict)\n",
        "\n",
        "# Checking if a key exists\n",
        "print(\"Is 'brand' in dictionary?\", \"brand\" in my_dict)\n",
        "print(\"Is 'model' in dictionary?\", \"model\" in my_dict)"
      ],
      "metadata": {
        "colab": {
          "base_uri": "https://localhost:8080/"
        },
        "id": "Mucd9zC-To5-",
        "outputId": "a4fc767a-4a36-4c92-f59a-dd33ba2842bc"
      },
      "execution_count": null,
      "outputs": [
        {
          "output_type": "stream",
          "name": "stdout",
          "text": [
            "Original dictionary: {'brand': 'Ford', 'model': 'Mustang', 'year': 1964}\n",
            "Brand: Ford\n",
            "Model: Mustang\n",
            "Dictionary after adding color: {'brand': 'Ford', 'model': 'Mustang', 'year': 1964, 'color': 'red'}\n",
            "Dictionary after changing year: {'brand': 'Ford', 'model': 'Mustang', 'year': 2020, 'color': 'red'}\n",
            "Dictionary after deleting model: {'brand': 'Ford', 'year': 2020, 'color': 'red'}\n",
            "Is 'brand' in dictionary? True\n",
            "Is 'model' in dictionary? False\n"
          ]
        }
      ]
    },
    {
      "cell_type": "code",
      "source": [
        "number = 10\n",
        "\n",
        "if number > 0:\n",
        "  print(\"The number is positive\")\n",
        "else:\n",
        "  print(\"The number is not positive\")"
      ],
      "metadata": {
        "colab": {
          "base_uri": "https://localhost:8080/"
        },
        "id": "jQYaVy1OV2XW",
        "outputId": "8f911a47-8c63-44bc-87f5-2ef391935f8b"
      },
      "execution_count": null,
      "outputs": [
        {
          "output_type": "stream",
          "name": "stdout",
          "text": [
            "The number is positive\n"
          ]
        }
      ]
    },
    {
      "cell_type": "markdown",
      "source": [
        "# Python lab 13/8/2025"
      ],
      "metadata": {
        "id": "w6NPGnzbHjS8"
      }
    },
    {
      "cell_type": "code",
      "source": [
        "a=5\n",
        "b=6\n",
        "c=a+b\n",
        "print(c)"
      ],
      "metadata": {
        "colab": {
          "base_uri": "https://localhost:8080/"
        },
        "id": "0R9od3slHrGV",
        "outputId": "cf38ed56-0eb1-4220-f977-a9b6884b446e"
      },
      "execution_count": null,
      "outputs": [
        {
          "output_type": "stream",
          "name": "stdout",
          "text": [
            "11\n"
          ]
        }
      ]
    },
    {
      "cell_type": "code",
      "source": [
        "print(\"hi\"+\"world\")"
      ],
      "metadata": {
        "colab": {
          "base_uri": "https://localhost:8080/"
        },
        "id": "SVrqDNsbJ50-",
        "outputId": "08c023b9-4944-4105-b21a-7e4662a6b0f8"
      },
      "execution_count": null,
      "outputs": [
        {
          "output_type": "stream",
          "name": "stdout",
          "text": [
            "hiworld\n"
          ]
        }
      ]
    },
    {
      "cell_type": "code",
      "source": [
        "# checking indentation error\n",
        "if (a>5):\n",
        "print(\"done\")"
      ],
      "metadata": {
        "colab": {
          "base_uri": "https://localhost:8080/",
          "height": 106
        },
        "id": "nEclTN6RKl-C",
        "outputId": "c526a568-81af-42d4-fef7-b6e874b6883a"
      },
      "execution_count": null,
      "outputs": [
        {
          "output_type": "error",
          "ename": "IndentationError",
          "evalue": "expected an indented block after 'if' statement on line 2 (ipython-input-2513110378.py, line 3)",
          "traceback": [
            "\u001b[0;36m  File \u001b[0;32m\"/tmp/ipython-input-2513110378.py\"\u001b[0;36m, line \u001b[0;32m3\u001b[0m\n\u001b[0;31m    print(\"done\")\u001b[0m\n\u001b[0m    ^\u001b[0m\n\u001b[0;31mIndentationError\u001b[0m\u001b[0;31m:\u001b[0m expected an indented block after 'if' statement on line 2\n"
          ]
        }
      ]
    },
    {
      "cell_type": "code",
      "source": [
        "# swap algorihm\n",
        "a=5\n",
        "b=6\n",
        "temp=a\n",
        "a=b\n",
        "b=temp\n",
        "print(a,b)"
      ],
      "metadata": {
        "colab": {
          "base_uri": "https://localhost:8080/"
        },
        "id": "DvoipqQ1Kwa4",
        "outputId": "e9934233-5bfa-4080-c5fd-8baf4b8a94e3"
      },
      "execution_count": null,
      "outputs": [
        {
          "output_type": "stream",
          "name": "stdout",
          "text": [
            "6 5\n"
          ]
        }
      ]
    },
    {
      "cell_type": "code",
      "source": [
        "# Tuple packing\n",
        "packed_tuple = (1, 2, 3)\n",
        "print(\"Packed tuple:\", packed_tuple)\n",
        "\n",
        "# Tuple unpacking\n",
        "x, y, z = packed_tuple\n",
        "print(\"Unpacked variables:\", x, y, z)"
      ],
      "metadata": {
        "colab": {
          "base_uri": "https://localhost:8080/"
        },
        "id": "86Fu7vE1Mk4U",
        "outputId": "5d3778d5-4734-4401-a38a-3c9fc00c0a6b"
      },
      "execution_count": null,
      "outputs": [
        {
          "output_type": "stream",
          "name": "stdout",
          "text": [
            "Packed tuple: (1, 2, 3)\n",
            "Unpacked variables: 1 2 3\n"
          ]
        }
      ]
    },
    {
      "cell_type": "code",
      "source": [
        "email=\"abcextc@gmail.com\"\n",
        "x,y=email.split('@')\n",
        "print(x,y)"
      ],
      "metadata": {
        "colab": {
          "base_uri": "https://localhost:8080/"
        },
        "id": "iuuYPXTfNLhy",
        "outputId": "24a81665-9d12-41e6-9291-23922d1cdbcc"
      },
      "execution_count": null,
      "outputs": [
        {
          "output_type": "stream",
          "name": "stdout",
          "text": [
            "xyzextc gmail.com\n"
          ]
        }
      ]
    },
    {
      "cell_type": "code",
      "source": [
        "# Basic arithmetic operators\n",
        "\n",
        "a = 10\n",
        "b = 5\n",
        "\n",
        "# Addition\n",
        "sum_result = a + b\n",
        "print(f\"Addition: {a} + {b} = {sum_result}\")\n",
        "\n",
        "# Subtraction\n",
        "difference = a - b\n",
        "print(f\"Subtraction: {a} - {b} = {difference}\")\n",
        "\n",
        "# Multiplication\n",
        "product = a * b\n",
        "print(f\"Multiplication: {a} * {b} = {product}\")\n",
        "\n",
        "# Division\n",
        "division_result = a / b\n",
        "print(f\"Division: {a} / {b} = {division_result}\")\n",
        "\n",
        "# Modulo (remainder)\n",
        "modulo_result = a % b\n",
        "print(f\"Modulo: {a} % {b} = {modulo_result}\")\n",
        "\n",
        "# # Exponentiation\n",
        "# exponentiation_result = a ** b\n",
        "# print(f\"Exponentiation: {a} ** {b} = {exponentiation_result}\")"
      ],
      "metadata": {
        "colab": {
          "base_uri": "https://localhost:8080/"
        },
        "id": "3A2NuRlYOIcU",
        "outputId": "d720b7dd-2a91-4ce1-ac1b-21e8d3514238"
      },
      "execution_count": null,
      "outputs": [
        {
          "output_type": "stream",
          "name": "stdout",
          "text": [
            "Addition: 10 + 5 = 15\n",
            "Subtraction: 10 - 5 = 5\n",
            "Multiplication: 10 * 5 = 50\n",
            "Division: 10 / 5 = 2.0\n",
            "Modulo: 10 % 5 = 0\n"
          ]
        }
      ]
    },
    {
      "cell_type": "code",
      "source": [
        "print(a>b)\n",
        "print(a==b)\n",
        "print(a!=b)\n",
        "print(a>=b)\n",
        "print(a<=b)"
      ],
      "metadata": {
        "colab": {
          "base_uri": "https://localhost:8080/"
        },
        "id": "YSJo6-TtQOrl",
        "outputId": "729898cf-6dd8-460b-f012-fc6b083f8f65"
      },
      "execution_count": null,
      "outputs": [
        {
          "output_type": "stream",
          "name": "stdout",
          "text": [
            "True\n",
            "False\n",
            "True\n",
            "True\n",
            "False\n"
          ]
        }
      ]
    },
    {
      "cell_type": "code",
      "source": [],
      "metadata": {
        "id": "PpM1LCpiRY7L"
      },
      "execution_count": null,
      "outputs": []
    }
  ]
}